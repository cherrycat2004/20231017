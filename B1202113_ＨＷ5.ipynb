{
  "nbformat": 4,
  "nbformat_minor": 0,
  "metadata": {
    "colab": {
      "provenance": []
    },
    "kernelspec": {
      "name": "python3",
      "display_name": "Python 3"
    },
    "language_info": {
      "name": "python"
    }
  },
  "cells": [
    {
      "cell_type": "code",
      "execution_count": 13,
      "metadata": {
        "colab": {
          "base_uri": "https://localhost:8080/"
        },
        "id": "U96_rQi0uOOL",
        "outputId": "c3a175d7-d879-45b7-aaa4-e9c599460c6a"
      },
      "outputs": [
        {
          "output_type": "stream",
          "name": "stdout",
          "text": [
            "        *\n",
            "       ***\n",
            "      *****\n",
            "     *******\n",
            "    *********\n",
            "   ***********\n",
            "  *************\n",
            " ***************\n",
            "*****************\n",
            "       ***\n",
            "       ***\n",
            "       ***\n",
            "       ***\n",
            "       ***\n"
          ]
        }
      ],
      "source": [
        "for i in range(1, 18, 2):\n",
        "  for j in range(int((17-i)/2)):\n",
        "    print(\" \", end=\"\")\n",
        "  for j in range(i):\n",
        "    print(\"*\", end=\"\")\n",
        "  print(\"\\n\", end=\"\");\n",
        "\n",
        "for i in range(5):\n",
        "  for j in range(7):\n",
        "    print(\" \", end=\"\")\n",
        "  for j in range(3):\n",
        "    print(\"*\", end=\"\")\n",
        "  print(\"\\n\", end=\"\");\n"
      ]
    },
    {
      "cell_type": "code",
      "source": [
        "import random\n",
        "\n",
        "ans=random.sample(range(1,10),4)\n",
        "print(\"答案：\" , ans)\n",
        "while(1):\n",
        "  while(1):\n",
        "    s=input(\"請輸入四個數字（不重複）：\")\n",
        "    rep=0\n",
        "\n",
        "    for c in range(len(s)):\n",
        "      for d in range(len(s)):\n",
        "        if((c != d)&(s[c]==s[d])):\n",
        "          rep=1\n",
        "\n",
        "    if (len(s)>4):\n",
        "      print(\"輸入數字過多\", end=\"\")\n",
        "    elif(len(s)<4):\n",
        "      print(\"輸入數字太少\", end=\"\")\n",
        "    elif(rep):\n",
        "      print(\"輸入數字重複\", end=\"\")\n",
        "    else:\n",
        "      break\n",
        "\n",
        "  init=s\n",
        "  s=list(s)\n",
        "\n",
        "  A=0\n",
        "  B=0\n",
        "\n",
        "  for i in range(len(s)):\n",
        "    s[i]=int (s[i])\n",
        "    for j in range(4):\n",
        "      if (s[i]==ans [j]):\n",
        "        if(i==j):\n",
        "          A+=1\n",
        "        else:\n",
        "          B+=1\n",
        "\n",
        "    if(A == 4):\n",
        "      print(\"答對了！\")\n",
        "      break\n",
        "\n",
        "    print(init,\":\", A, \"A\", B, \"B\", sep=\"\")"
      ],
      "metadata": {
        "colab": {
          "base_uri": "https://localhost:8080/"
        },
        "id": "rNODougf3KeB",
        "outputId": "544751bf-3048-481b-e10c-fdbb4f395c8e"
      },
      "execution_count": null,
      "outputs": [
        {
          "output_type": "stream",
          "name": "stdout",
          "text": [
            "答案： [1, 2, 5, 8]\n",
            "請輸入四個數字（不重複）：12345\n",
            "輸入數字過多請輸入四個數字（不重複）：1234\n",
            "1234:1A0B\n",
            "1234:2A0B\n",
            "1234:2A0B\n",
            "1234:2A0B\n",
            "請輸入四個數字（不重複）：1458\n",
            "1458:1A0B\n",
            "1458:1A0B\n",
            "1458:2A0B\n",
            "1458:3A0B\n",
            "請輸入四個數字（不重複）：2436\n",
            "2436:0A1B\n",
            "2436:0A1B\n",
            "2436:0A1B\n",
            "2436:0A1B\n",
            "請輸入四個數字（不重複）：2467\n",
            "2467:0A1B\n",
            "2467:0A1B\n",
            "2467:0A1B\n",
            "2467:0A1B\n"
          ]
        }
      ]
    }
  ]
}